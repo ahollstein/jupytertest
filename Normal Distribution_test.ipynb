{
 "cells": [
  {
   "cell_type": "code",
   "execution_count": null,
   "metadata": {},
   "outputs": [],
   "source": [
    "import numpy as np\n",
    "!conda install --yes --prefix {np.prefix} numpy\n",
    "import matplotlib.pyplot as plt"
   ]
  },
  {
   "cell_type": "code",
   "execution_count": null,
   "metadata": {},
   "outputs": [],
   "source": [
    "range1=float(input(\"Please enter start range numbers: \"))\n",
    "range2=float(input(\"Please enter end range numbers: \"))\n",
    "\n",
    "try:\n",
    "    mean =int(input(\"Please enter mean number: \"))\n",
    "    variance= float(input(\"Please enter variance numbers: \"))\n",
    "    if  variance<0:\n",
    "        print(\"please enter number > 0 for variance!!!\")\n",
    "        \n",
    "except:\n",
    "     print(\"please enter real number for mean!!!\")\n",
    "        "
   ]
  },
  {
   "cell_type": "code",
   "execution_count": null,
   "metadata": {},
   "outputs": [],
   "source": [
    "x = np.arange(range1,range2)\n",
    "\n",
    "z=[mean,variance]\n",
    "\n",
    "f=1/(np.sqrt(z[1])*np.sqrt(2*np.pi))*(np.exp(-.5*(np.square(x-z[0]/np.sqrt(z[1])))))\n",
    "\n",
    "plt.plot(f)\n",
    "plt.ylabel('Normal distribution')\n",
    "\n",
    "fig = plt.gcf()\n",
    "fig.set_size_inches(18.5, 10.5)\n",
    "\n",
    "plt.show()\n",
    "\n"
   ]
  },
  {
   "cell_type": "code",
   "execution_count": null,
   "metadata": {},
   "outputs": [],
   "source": []
  }
 ],
 "metadata": {
  "kernelspec": {
   "display_name": "Python 3",
   "language": "python",
   "name": "python3"
  },
  "language_info": {
   "codemirror_mode": {
    "name": "ipython",
    "version": 3
   },
   "file_extension": ".py",
   "mimetype": "text/x-python",
   "name": "python",
   "nbconvert_exporter": "python",
   "pygments_lexer": "ipython3",
   "version": "3.6.8"
  }
 },
 "nbformat": 4,
 "nbformat_minor": 2
}
